{
 "cells": [
  {
   "cell_type": "markdown",
   "metadata": {},
   "source": [
    "https://www.opencodez.com/web-development/web-scraping-using-beautiful-soup-part-1.htm"
   ]
  },
  {
   "cell_type": "markdown",
   "metadata": {},
   "source": [
    "https://stackoverflow.com/questions/54096972/scraping-paginated-results-using-python-beautifulsoup-3"
   ]
  },
  {
   "cell_type": "markdown",
   "metadata": {},
   "source": [
    "# Importing Packages"
   ]
  },
  {
   "cell_type": "code",
   "execution_count": 1,
   "metadata": {},
   "outputs": [],
   "source": [
    "import bs4\n",
    "from bs4 import *\n",
    "from urllib.request import Request, urlopen\n",
    "import requests\n",
    "import pandas\n",
    "from pandas import DataFrame\n",
    "import csv"
   ]
  },
  {
   "cell_type": "markdown",
   "metadata": {},
   "source": [
    "Defining the website URL (chosing a random page from sikayetvar)"
   ]
  },
  {
   "cell_type": "code",
   "execution_count": 2,
   "metadata": {},
   "outputs": [],
   "source": [
    "url = 'https://www.sikayetvar.com/ulker/gofret?page=3'"
   ]
  },
  {
   "cell_type": "markdown",
   "metadata": {},
   "source": [
    "We are getting a 403 error so we must mask our browser."
   ]
  },
  {
   "cell_type": "markdown",
   "metadata": {},
   "source": [
    "In the code snippet below we will hide our request by sending a HTTP Header. It will look like our request is being sent from Firefox browser."
   ]
  },
  {
   "cell_type": "code",
   "execution_count": 3,
   "metadata": {},
   "outputs": [],
   "source": [
    "req = Request(url, headers = {'User-Agent':'Mozilla/5.0'})"
   ]
  },
  {
   "cell_type": "code",
   "execution_count": 4,
   "metadata": {},
   "outputs": [],
   "source": [
    "webpage = urlopen(req).read()"
   ]
  },
  {
   "cell_type": "markdown",
   "metadata": {},
   "source": [
    "Basically the code above will send a request and read the webpage "
   ]
  },
  {
   "cell_type": "markdown",
   "metadata": {},
   "source": [
    "**We now will use the python library beautiful soup to store and parse through the HTML document of the webpage.**"
   ]
  },
  {
   "cell_type": "code",
   "execution_count": 5,
   "metadata": {},
   "outputs": [],
   "source": [
    "soup = BeautifulSoup(webpage, 'html.parser')"
   ]
  },
  {
   "cell_type": "markdown",
   "metadata": {},
   "source": [
    "Before moving on to the scraper we are going to make some exploration about the data we want to exract. We will look at:\n",
    "    1. Author (the person who wrote the comment)\n",
    "    2. Title (title of the comment)\n",
    "    3. Text (the actual comment)"
   ]
  },
  {
   "cell_type": "markdown",
   "metadata": {},
   "source": [
    "# Authors"
   ]
  },
  {
   "cell_type": "code",
   "execution_count": 6,
   "metadata": {},
   "outputs": [
    {
     "data": {
      "text/plain": [
       "23"
      ]
     },
     "execution_count": 6,
     "metadata": {},
     "output_type": "execute_result"
    }
   ],
   "source": [
    "soup_author= soup.findAll(\"article\",{\"class\":[\"story-card complaint-card\",\"story-card complaint-card solved\"]})\n",
    "len(soup_author)"
   ]
  },
  {
   "cell_type": "markdown",
   "metadata": {},
   "source": [
    "A list of 23 values will be pulled out. From these we will pull the authors of all the comments using the code below"
   ]
  },
  {
   "cell_type": "code",
   "execution_count": 7,
   "metadata": {},
   "outputs": [
    {
     "name": "stdout",
     "output_type": "stream",
     "text": [
      "Süleyman\n",
      "Ecre\n",
      "Aziz\n",
      "Nazan\n",
      "Sefa\n",
      "Nurgul\n",
      "Oğuzhan\n",
      "Tamer\n",
      "Timur\n",
      "Ece\n",
      "İrem\n",
      "Nur\n",
      "Abdullah\n",
      "Uygar\n",
      "Mustafa\n",
      "Ali\n",
      "Kübra\n",
      "Duygu\n",
      "Gülsüm\n",
      "Yasin\n",
      "Tarık\n",
      "Büşra\n",
      "Şevket\n"
     ]
    }
   ],
   "source": [
    "for x in range(23):\n",
    " print(soup_author[x].a['title']) "
   ]
  },
  {
   "cell_type": "markdown",
   "metadata": {},
   "source": [
    "# Titles"
   ]
  },
  {
   "cell_type": "code",
   "execution_count": 8,
   "metadata": {},
   "outputs": [
    {
     "data": {
      "text/plain": [
       "23"
      ]
     },
     "execution_count": 8,
     "metadata": {},
     "output_type": "execute_result"
    }
   ],
   "source": [
    "soup_title= soup.findAll(\"h2\",{\"class\":\"complaint-title\"})\n",
    "len(soup_title)"
   ]
  },
  {
   "cell_type": "markdown",
   "metadata": {},
   "source": [
    "A list of 23 values will be pulled out. From these we will pull the titles of all the comments using the code below"
   ]
  },
  {
   "cell_type": "code",
   "execution_count": 9,
   "metadata": {},
   "outputs": [
    {
     "name": "stdout",
     "output_type": "stream",
     "text": [
      "Ülker Hayallerle Aldığım Yeni Ürün Mini All Star'da Hüsranla Karşılaştım\n",
      "Ülker Dido Frambuaz Aromalı\n",
      "Ülker 9 Kat Tat Diliminde Siyah Leke Var\n",
      "Ülker Paketi İçerisinde Saç Teli!\n",
      "Ülker Paket İçinde Çıkan Kokulu Kağıt\n",
      "Ülker Çikolata İçinden İp Çıkması\n",
      "Ülker Çikolatalı Gofret İncelmiş\n",
      "Maalesef Artık Aramızda Ülker Çikolatalı Gofreti Sevmeyen Var\n",
      "Ülker Paket Mini Gofretin Boş Çıkması!\n",
      "Ülker Çikolatalı Gofret Sert Çıktı!\n",
      "Ülker Çikolatalı Gofretin İçindeki Sertlik\n",
      "Ülker Firmasının Kötü Pazarlama Taktiği!\n",
      "Ülker Çikolatalı Gofret Gramaj Farkı\n",
      "Ülker Çikolatalı Ekstra Bitter Gofret\n",
      "Ülker Sürekli Gramajı Düşürülen Gofret\n",
      "Ülker Çikolatalı Bitter Gofret Paketinden Yarım Çıktı\n",
      "Ülker Mini Gofret Açık Paket\n",
      "Yarım Kaplamalı Ülker Beyaz Çikolatalı Gofret\n",
      "Ülker Çikolatalı Gofret Ekstradan Plastik Parça Çıktı\n",
      "Ülker Mini Çikolatalı Gofret Bayat Çıkıyor!\n",
      "Ülker Çikolatasız Gofret Görmeyen Var Mı\n",
      "Ülker Çikolatasız Gofret\n",
      "Ülker Yalandan Beyaz Çikolata\n"
     ]
    }
   ],
   "source": [
    "for x in range(23):\n",
    " print(soup_title[x].a['title']) "
   ]
  },
  {
   "cell_type": "markdown",
   "metadata": {},
   "source": [
    "# Comments"
   ]
  },
  {
   "cell_type": "code",
   "execution_count": 10,
   "metadata": {},
   "outputs": [
    {
     "data": {
      "text/plain": [
       "23"
      ]
     },
     "execution_count": 10,
     "metadata": {},
     "output_type": "execute_result"
    }
   ],
   "source": [
    "soup_comments= soup.findAll(\"article\",{\"class\":[\"story-card complaint-card\",\"story-card complaint-card solved\"]})\n",
    "len(soup_comments)"
   ]
  },
  {
   "cell_type": "markdown",
   "metadata": {},
   "source": [
    "A list of 23 values will be pulled out. From these we will pull the comments of all the comments using the code below"
   ]
  },
  {
   "cell_type": "code",
   "execution_count": 11,
   "metadata": {},
   "outputs": [
    {
     "name": "stdout",
     "output_type": "stream",
     "text": [
      "Yeni çıkardığınız 4,5 TL lik 91 gr MINI paketiniz, içerisinde bulunan ürünlerin büyük paketlerine kıyasla çok pahalı. Buna ek olarak içinde 3 tane çikolatalı gofret, 3 tane Albeni, 4 tane metro, 2 tane coco Star var. Allah aşkına üretim planlamada metroyu çok seven mi var coco Star'ı sevmeyen birisi...\n",
      "Ülker Dido böğürtlen kremalı çikolatadaki şekilsel bozukluk. Gofret tamamen çapraz bir şekilde yerleşmiş. Sanırım hattaki makine arızasından kaynaklanıyor. Ambalaj üzerinde yansıtılan çikolata resmiyle yediğim çikolata arasında bayağı simetrik fark var.\n",
      "Ülker 9 kat tat Hindistan cevizli kremalı gofretin diliminde sanki yanmış motor yağı dökülmüş gibi karartı çıktı. Ürünü A101'den almıştım. Fişini bulamadığım için iade edemedim. İnternet sitelerinde de hiçbir şekilde şikayet edebilecek sayfa bulamadım.\n",
      "Ülker çikolatalı gofretten saç teli çıktı. 1 parmak uzunluğuna yakın saç teli ve pakete yapışık şekilde içerisinde. Ülker çikolatalı gofret paketini açtım açar açmaz paketin içerisinde uzun bir saç teli çıktı. Mide bulandırıcı kocaman bir saç teli ve pakete yapışık.\n",
      "Ülker çikolatalı gofret aldım ve paketin son kısmından 2 adet kahverengi kağıt bant çıktı. İlk defa denk geldim midemi mahvetti kokusu, nasıl kontrol ...\n",
      "Bugün Ülker çikolata gofret aldım içinden ip ve sert cama benzer bir parça çıktı bu kadar güvenilir markada böyle bir şey çıkması tam bir rezalet fark etmeden çocuğumda yiyebilirdi böyle büyük bir marka nasıl böyle bir şeyi gözden kaçırabilir insanların sağlığıyla oynuyorsunuz!\n",
      "Çocukluğumdan beri Ülker çikolatalı gofret yerim markete her gittiğimde üçer beşer alırım. Dün Bim marketten aldığım gofreti iftardan sonra Çayla yerim dedim fakat açtığımda baktım ki daha ince sanki. Sonra ikinciyi açtım oda ince eski gofretlerin ağırlığını hatırlamıyorum karşılaştıramadım fakat go...\n",
      "Ailecek çok severek yediğimiz ve her market alışverişimizde mutlaka aldığımız Ülker çikolatalı gofreti artık almıyoruz. Çünkü eski tadı, lezzeti yok ve üstelik bu çoklu paketlerde SKT tarihi geçmemiş görünüyor fakat gofret kesinlikle bayat! Son dönemlerde içerisinden oldukça sert ne olduğunu anlayam...\n",
      "Çoklu mini Ülker gofret çikolata aldım ve mini gofretlerin içi boş çıktı sonra elimi pakete bir daha daldırdığımda bir boş mini gofret daha çıktı yani gidip markette yürüdüğüm zamana mı yanayım yoksa giden ufak ama tadını alamadığım büyük kaybolan zevkime mi yanayım bilemedim.\n",
      "Ülker çikolatalı gofret yumuşacık bir gofretti, benim bildiğim kadarıyla. Ama dün Bim'den aldığım gofretin orta katmanı semsert çıktı. Dişim çıkacak diye korktum. Acaba benim gibi böyle bir sorun yaşayan var mı? Sorun Bim'de mi yoksa Ülker de mi bilemedim.\n",
      "Ben küçüklüğümden beri markanızın birçok ürününü satın aldım ve tatlarına çok iyi biliyorum. Özellikle Ülker çikolatalı gofret haftada en az haftada minimum 5 6 adet tüketiyorum. Ama dün aldığım Ülker çikolatalı gofretin içinde küçük taş parçasına benzer bir şey çıktı. Gerçekten Ülker markasından be...\n",
      "Ülker firmasının piyasaya sürmesinin üzerinden çok zaman geçmeyen \"Ülker Mini ALL Star\" ile ilgili bir şikayet yazmak istiyorum. Ürünün içeriğinde Metro, Coco Star, Albeni ve Ülker Çikolatalı Gofret gibi 4 adet ürün seçeneği mevcut. Normalde paketin karışık ve eşit dağılımlı olması gerekiyor. Fakat ...\n",
      "Aynı kutu içindeki Ülker çikolatalı gofretlerin bazıları 39 gr. Bazıları 36 gr ama fiyat aynı bu nasıl oluyor? Bu haksızlık değil mi? Ülker böyle bir şey nasıl yapıyor inanamadım. Şok'ta gördüm bir hata vardır dedim sonra dikkat ettim başka marketlerde de aynı.\n",
      "Geçen günlerde marketten aldığım Ülker çikolatalı gofret ekstra bitter paketinin yarısı çikolata yarısı boş (hava) olarak çıktı. Paketi hiç açmadım elimde şu an bu halde duruyor yeni bir lezzet tatmak istersen bu manzarayla karşılaşmak beni çok üzdü.\n",
      "Ben sürekli çikolatalı gofret alıyorum sürekli farklı gramajlarda 40,39,36 gr. ama fiyatta hiçbir eksiklik yok sürekli gramajı düşürüp insanların hakkı yok ediliyor. Hiç adil bir durum değil. Bu gidişle herhalde sade ambalajını satacaklar aynı fiyattan.\n",
      "Ülker çikolatalı gofret bitterin paketten yarısı çıkmadı. Gofretin bir kısmı eksik çıkması markaya olan güvenimi bitirdi. Şok marketten almıştım. Bir ...\n",
      "Ülker çikolatalı gofret mini paketi içerisindeki açılmış yenilmiş, paketlerken de paket kısmına yapışmış. Böyle bir rezillik olamaz. İnsan sağlığı bu kadar basit olamaz. Bir de bu kadar adı bilinen bir marka. Kesinlikle basit bir olay olarak karşılamayacağız. Gerekli yerlere şikayetlerimizi yapıp, s...\n",
      "Ülker beyaz çikolatalı gofreti günde 3-4 tane tüketiyoruz evimizde. Ancak son aldıklarımızdan bazılarında bir tarafındaki beyaz çikolata kaplamasının olmadığını gördük. Yılların Ülker çikolatası, çikolatasız mı kaldı, ya da gofreti yaparken çikolatadan mı kısmaya başladı?\n",
      "Ülker Çikolatalı gofret ekstra ürünün içerisinden plastik parça çıktı. Bu kadar büyük bir markanın neredeyse el değmeden üretim yapılmasına rağmen nas...\n",
      "Toptancıdan ailemiz için severek yediğimiz Ülker çikolatalı gofretin yenisini merak ederek ve çocuklara dağıtırız düşüncesi ile 1 kutu mini Ülker çikolatalı gofret aldık. Lakin kutudan çıkan her çikolata bayat. Her zaman büyüğünden kutu kutu aldığımız ve severek yediğimiz için içindeki farkı direkt ...\n",
      "A101 'den aldığım, Ülker çikolatalı gofretin çikolata kaplaması yoktu. Aldığım 4 üründen 2. Sinin kaplamasının olmaması fabrikasyon bir hata olduğunu bildirmek isterim. Daha önce eşim şikayette bulunmuş ve dönüş sağlanmıştı fakat ürünü muhafaza edemediğimizden yardımcı olamamıştık ama diğerlerini de...\n",
      "A101'den yaptığım alışverişte Ülker çikolatalı gofret satın aldım fakat paketi açtığımızda gofretin çikolata kaplamasının olmadığını gördük severek tükettiğimiz \"Ülker çikolatalı gofret\"i \"Ülker çikolata kaplamasız gofret\" olarak ilk kez gördük. Sizlerle paylaşmak istedik bir fabrikasyon hatasıyla k...\n",
      "Ülker çikolatalı gofret ve Ülker Çokonat'ı severek yerdim. Son zamanlarda tatlarında bir gariplik olduğunu fark ettim. Tatları değişmiş. Tatları hiç güzel değildi. Artık satın almıyorum. Yıllardır değişmeyen güzel tatları nasıl bu hale getirdiniz?\n",
      "\n",
      "Çikolataların toplatılması ve analiz edilmesi gerek...\n"
     ]
    }
   ],
   "source": [
    "for x in range(23):\n",
    " print((soup_comments[x]).p.text.strip())"
   ]
  },
  {
   "cell_type": "markdown",
   "metadata": {},
   "source": [
    "# Final Product"
   ]
  },
  {
   "cell_type": "markdown",
   "metadata": {},
   "source": [
    "As the final stage we are going to write a loop containing the pagination and selectors."
   ]
  },
  {
   "cell_type": "markdown",
   "metadata": {},
   "source": [
    "Some texts under the h2's are empty so we are going to exclude them in our loop. "
   ]
  },
  {
   "cell_type": "markdown",
   "metadata": {},
   "source": [
    "**Scraper**"
   ]
  },
  {
   "cell_type": "code",
   "execution_count": 12,
   "metadata": {},
   "outputs": [
    {
     "name": "stdout",
     "output_type": "stream",
     "text": [
      "Processing page: 1\n",
      "Processing page: 2\n",
      "Processing page: 3\n",
      "Processing page: 4\n",
      "Processing page: 5\n",
      "Processing page: 6\n",
      "Processing page: 7\n",
      "Processing page: 8\n",
      "Processing page: 9\n",
      "Processing page: 10\n",
      "Processing page: 11\n",
      "Processing page: 12\n",
      "Processing page: 13\n",
      "Done\n"
     ]
    }
   ],
   "source": [
    "# Defining urls and htmls using beautifulsoup\n",
    "root_url = 'https://www.sikayetvar.com/ulker/gofret?page=3'\n",
    "req = Request(root_url, headers = {'User-Agent':'Mozilla/5.0'})\n",
    "html = urlopen(req).read()\n",
    "soup = BeautifulSoup(html, 'html.parser')\n",
    "\n",
    "# Adjusting Pagination\n",
    "paging = soup.find(\"ul\",{\"class\":\"pagination\"}).find_all(\"a\")\n",
    "start_page = paging[1].text\n",
    "last_page = paging[len(paging)-2].text\n",
    "\n",
    "# Creating a csv file for our scraped data\n",
    "outfile = open('comments.csv','w', newline='')\n",
    "writer = csv.writer(outfile)\n",
    "writer.writerow([\"Name\", \"Title\", \"Text\"])\n",
    "\n",
    "# Scraper\n",
    "pages = list(range(1,int(last_page)+1))\n",
    "for page in pages:\n",
    "    url = 'https://www.sikayetvar.com/ulker/gofret?page=%s' %(page)\n",
    "    req = Request(url, headers = {'User-Agent':'Mozilla/5.0'})\n",
    "    html = urlopen(req).read()\n",
    "    soup = BeautifulSoup(html, 'html.parser')\n",
    "\n",
    "    print ('Processing page: %s' %(page))\n",
    "\n",
    "    product_name_list = soup.findAll(\"article\",{\"class\":[\"story-card complaint-card\",\"story-card complaint-card solved\"]})\n",
    "    for i in product_name_list:\n",
    "        try: \n",
    "            name = i.find(\"span\",{\"class\":\"username\"}).text  \n",
    "            title = i.find(\"h2\", {\"class\":\"complaint-title\"}).text\n",
    "            text = i.find(\"p\").text\n",
    "\n",
    "            writer.writerow([name, title, text])\n",
    "\n",
    "        except:\n",
    "            pass \n",
    "outfile.close()\n",
    "print ('Done')  "
   ]
  }
 ],
 "metadata": {
  "kernelspec": {
   "display_name": "Python 3",
   "language": "python",
   "name": "python3"
  },
  "language_info": {
   "codemirror_mode": {
    "name": "ipython",
    "version": 3
   },
   "file_extension": ".py",
   "mimetype": "text/x-python",
   "name": "python",
   "nbconvert_exporter": "python",
   "pygments_lexer": "ipython3",
   "version": "3.7.6"
  }
 },
 "nbformat": 4,
 "nbformat_minor": 4
}
